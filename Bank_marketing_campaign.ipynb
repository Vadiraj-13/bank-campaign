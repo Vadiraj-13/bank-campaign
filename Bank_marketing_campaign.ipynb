{
  "nbformat": 4,
  "nbformat_minor": 0,
  "metadata": {
    "colab": {
      "provenance": []
    },
    "kernelspec": {
      "name": "python3",
      "display_name": "Python 3"
    },
    "language_info": {
      "name": "python"
    }
  },
  "cells": [
    {
      "cell_type": "code",
      "execution_count": null,
      "metadata": {
        "colab": {
          "base_uri": "https://localhost:8080/"
        },
        "id": "-yfchsbwoRs4",
        "outputId": "96f7ddbe-6a62-4204-9da9-18244c096942"
      },
      "outputs": [
        {
          "output_type": "stream",
          "name": "stdout",
          "text": [
            "\r0% [Working]\r            \rIgn:1 https://developer.download.nvidia.com/compute/machine-learning/repos/ubuntu2004/x86_64  InRelease\n",
            "\r0% [Connecting to archive.ubuntu.com (185.125.190.39)] [Connecting to security.\r                                                                               \rHit:2 https://cloud.r-project.org/bin/linux/ubuntu focal-cran40/ InRelease\n",
            "\r0% [Connecting to archive.ubuntu.com (185.125.190.39)] [Connecting to security.\r                                                                               \rHit:3 https://developer.download.nvidia.com/compute/cuda/repos/ubuntu2004/x86_64  InRelease\n",
            "Hit:4 https://developer.download.nvidia.com/compute/machine-learning/repos/ubuntu2004/x86_64  Release\n",
            "Hit:5 http://archive.ubuntu.com/ubuntu focal InRelease\n",
            "Hit:6 http://security.ubuntu.com/ubuntu focal-security InRelease\n",
            "Hit:7 http://ppa.launchpad.net/c2d4u.team/c2d4u4.0+/ubuntu focal InRelease\n",
            "Hit:8 http://archive.ubuntu.com/ubuntu focal-updates InRelease\n",
            "Hit:9 http://archive.ubuntu.com/ubuntu focal-backports InRelease\n",
            "Hit:10 http://ppa.launchpad.net/cran/libgit2/ubuntu focal InRelease\n",
            "Hit:11 http://ppa.launchpad.net/deadsnakes/ppa/ubuntu focal InRelease\n",
            "Hit:12 http://ppa.launchpad.net/graphics-drivers/ppa/ubuntu focal InRelease\n",
            "Reading package lists... Done\n",
            "bank_prospects.csv  spark-3.3.1-bin-hadoop3\t spark-3.3.1-bin-hadoop3.tgz.1\n",
            "sample_data\t    spark-3.3.1-bin-hadoop3.tgz\n"
          ]
        }
      ],
      "source": [
        "# Installing JDK, Spark, findspark  and setting the environment variables\n",
        "\n",
        "!apt-get update\n",
        "!apt-get install openjdk-8-jdk-headless -qq > /dev/null\n",
        "!wget -q https://dlcdn.apache.org/spark/spark-3.3.1/spark-3.3.1-bin-hadoop3.tgz\n",
        "!tar xf spark-3.3.1-bin-hadoop3.tgz\n",
        "!pip install -q findspark\n",
        " \n",
        "import os\n",
        "os.environ[\"JAVA_HOME\"] = \"/usr/lib/jvm/java-8-openjdk-amd64\"\n",
        "os.environ[\"SPARK_HOME\"] = \"/content/spark-3.3.1-bin-hadoop3\"\n",
        " \n",
        "!ls"
      ]
    },
    {
      "cell_type": "code",
      "source": [
        "# Importing pyspark and creating the SparkSession object\n",
        "\n",
        "import findspark\n",
        "findspark.init()\n",
        " \n",
        "import pyspark\n",
        "from pyspark.sql import SparkSession\n",
        "spark = SparkSession.builder.getOrCreate() \n",
        "spark"
      ],
      "metadata": {
        "colab": {
          "base_uri": "https://localhost:8080/",
          "height": 219
        },
        "id": "m13r7ZPbol9t",
        "outputId": "0a134f3a-e872-43e1-ecac-ff7ed82b94a3"
      },
      "execution_count": null,
      "outputs": [
        {
          "output_type": "execute_result",
          "data": {
            "text/plain": [
              "<pyspark.sql.session.SparkSession at 0x7fab2117e880>"
            ],
            "text/html": [
              "\n",
              "            <div>\n",
              "                <p><b>SparkSession - in-memory</b></p>\n",
              "                \n",
              "        <div>\n",
              "            <p><b>SparkContext</b></p>\n",
              "\n",
              "            <p><a href=\"http://c6982aacc41f:4040\">Spark UI</a></p>\n",
              "\n",
              "            <dl>\n",
              "              <dt>Version</dt>\n",
              "                <dd><code>v3.3.1</code></dd>\n",
              "              <dt>Master</dt>\n",
              "                <dd><code>local[*]</code></dd>\n",
              "              <dt>AppName</dt>\n",
              "                <dd><code>pyspark-shell</code></dd>\n",
              "            </dl>\n",
              "        </div>\n",
              "        \n",
              "            </div>\n",
              "        "
            ]
          },
          "metadata": {},
          "execution_count": 27
        }
      ]
    },
    {
      "cell_type": "code",
      "source": [
        "# Get the data\n",
        "\n",
        "!wget https://raw.githubusercontent.com/futurexskill/bigdata/master/bank_prospects.csv"
      ],
      "metadata": {
        "colab": {
          "base_uri": "https://localhost:8080/"
        },
        "id": "xEM0GRZzo2b6",
        "outputId": "d6924400-3a56-4049-ad25-8c4b2499f0d6"
      },
      "execution_count": null,
      "outputs": [
        {
          "output_type": "stream",
          "name": "stdout",
          "text": [
            "--2023-01-19 15:47:04--  https://raw.githubusercontent.com/futurexskill/bigdata/master/bank_prospects.csv\n",
            "Resolving raw.githubusercontent.com (raw.githubusercontent.com)... 185.199.108.133, 185.199.109.133, 185.199.110.133, ...\n",
            "Connecting to raw.githubusercontent.com (raw.githubusercontent.com)|185.199.108.133|:443... connected.\n",
            "HTTP request sent, awaiting response... 200 OK\n",
            "Length: 306 [text/plain]\n",
            "Saving to: ‘bank_prospects.csv.1’\n",
            "\n",
            "bank_prospects.csv. 100%[===================>]     306  --.-KB/s    in 0s      \n",
            "\n",
            "2023-01-19 15:47:04 (9.26 MB/s) - ‘bank_prospects.csv.1’ saved [306/306]\n",
            "\n"
          ]
        }
      ]
    },
    {
      "cell_type": "code",
      "source": [
        "# See the content of the file\n",
        "\n",
        "!cat bank_prospects.csv"
      ],
      "metadata": {
        "colab": {
          "base_uri": "https://localhost:8080/"
        },
        "id": "eBwU4ZR5pKt-",
        "outputId": "c4d223c8-732c-4803-be47-0b3cfa657689"
      },
      "execution_count": null,
      "outputs": [
        {
          "output_type": "stream",
          "name": "stdout",
          "text": [
            "Age,Salary,Gender,Country,Purchased\r\n",
            "18,20000,Male,Germany,N\r\n",
            "19,22000,Female,France,N\r\n",
            "20,24000,Female,England,N\r\n",
            "21,,Male,England,N\r\n",
            "22,50000,Male,France,Y\r\n",
            "23,35000,Female,England,N\r\n",
            "24,,Male,Germany,N\r\n",
            "25,32000,Female,France,Y\r\n",
            ",35000,Male,Germany,N\r\n",
            "27,37000,Female,France,N\r\n",
            "27,37000,Female,unknown,N"
          ]
        }
      ]
    },
    {
      "cell_type": "code",
      "source": [
        "# Load the file to a dataframe\n",
        "\n",
        "df = spark.read.csv(\"bank_prospects.csv\", header=True)"
      ],
      "metadata": {
        "id": "07ysLVGjpTJ_"
      },
      "execution_count": null,
      "outputs": []
    },
    {
      "cell_type": "code",
      "source": [
        "df.show()"
      ],
      "metadata": {
        "colab": {
          "base_uri": "https://localhost:8080/"
        },
        "id": "Zc3y53zCpluG",
        "outputId": "d29146f8-d427-4e50-85f6-45c8274c8cff"
      },
      "execution_count": null,
      "outputs": [
        {
          "output_type": "stream",
          "name": "stdout",
          "text": [
            "+----+------+------+-------+---------+\n",
            "| Age|Salary|Gender|Country|Purchased|\n",
            "+----+------+------+-------+---------+\n",
            "|  18| 20000|  Male|Germany|        N|\n",
            "|  19| 22000|Female| France|        N|\n",
            "|  20| 24000|Female|England|        N|\n",
            "|  21|  null|  Male|England|        N|\n",
            "|  22| 50000|  Male| France|        Y|\n",
            "|  23| 35000|Female|England|        N|\n",
            "|  24|  null|  Male|Germany|        N|\n",
            "|  25| 32000|Female| France|        Y|\n",
            "|null| 35000|  Male|Germany|        N|\n",
            "|  27| 37000|Female| France|        N|\n",
            "|  27| 37000|Female|unknown|        N|\n",
            "+----+------+------+-------+---------+\n",
            "\n"
          ]
        }
      ]
    },
    {
      "cell_type": "code",
      "source": [
        "# Filtering unknown values\n",
        "\n",
        "df = df.filter(df['Country']!='unknown')"
      ],
      "metadata": {
        "id": "XOqyRF9Xpta_"
      },
      "execution_count": null,
      "outputs": []
    },
    {
      "cell_type": "code",
      "source": [
        "df.show()"
      ],
      "metadata": {
        "colab": {
          "base_uri": "https://localhost:8080/"
        },
        "id": "TP7jqUtyqJza",
        "outputId": "b0a81aaf-e2e6-4100-f459-732588ecafff"
      },
      "execution_count": null,
      "outputs": [
        {
          "output_type": "stream",
          "name": "stdout",
          "text": [
            "+----+------+------+-------+---------+\n",
            "| Age|Salary|Gender|Country|Purchased|\n",
            "+----+------+------+-------+---------+\n",
            "|  18| 20000|  Male|Germany|        N|\n",
            "|  19| 22000|Female| France|        N|\n",
            "|  20| 24000|Female|England|        N|\n",
            "|  21|  null|  Male|England|        N|\n",
            "|  22| 50000|  Male| France|        Y|\n",
            "|  23| 35000|Female|England|        N|\n",
            "|  24|  null|  Male|Germany|        N|\n",
            "|  25| 32000|Female| France|        Y|\n",
            "|null| 35000|  Male|Germany|        N|\n",
            "|  27| 37000|Female| France|        N|\n",
            "+----+------+------+-------+---------+\n",
            "\n"
          ]
        }
      ]
    },
    {
      "cell_type": "code",
      "source": [
        "# Printing the schema of the dataframe\n",
        "\n",
        "df.printSchema()"
      ],
      "metadata": {
        "colab": {
          "base_uri": "https://localhost:8080/"
        },
        "id": "8ENzfVI-qNuS",
        "outputId": "d831c95d-82eb-4259-8733-ee025635b5c2"
      },
      "execution_count": null,
      "outputs": [
        {
          "output_type": "stream",
          "name": "stdout",
          "text": [
            "root\n",
            " |-- Age: string (nullable = true)\n",
            " |-- Salary: string (nullable = true)\n",
            " |-- Gender: string (nullable = true)\n",
            " |-- Country: string (nullable = true)\n",
            " |-- Purchased: string (nullable = true)\n",
            "\n"
          ]
        }
      ]
    },
    {
      "cell_type": "code",
      "source": [
        "# Convert Age to integer type and Salary to float type\n",
        "\n",
        "from pyspark.sql.types import IntegerType,FloatType\n",
        "df2 = df.withColumn('Age',df['Age'].cast(IntegerType())).withColumn('Salary',df['Salary'].cast(FloatType()))"
      ],
      "metadata": {
        "id": "QFJfIKdEqTKR"
      },
      "execution_count": null,
      "outputs": []
    },
    {
      "cell_type": "code",
      "source": [
        "# Calculating mean value of age and Salary\n",
        "\n",
        "from pyspark.sql.functions import mean\n",
        "mean_age_value = df2.select(mean('Age')).collect()\n",
        "mean_salary_value = df2.select(mean('Salary')).collect()\n",
        "\n",
        "mean_age = mean_age_value[0][0]\n",
        "mean_salary = mean_salary_value[0][0]"
      ],
      "metadata": {
        "id": "RSO6rt5OrS-I"
      },
      "execution_count": null,
      "outputs": []
    },
    {
      "cell_type": "code",
      "source": [
        "# Replacing null values in Age and Salary with their respective mean values.\n",
        "\n",
        "\n",
        "df3 = df2.na.fill(mean_salary,'Salary')"
      ],
      "metadata": {
        "id": "mEwF6yQCr7OQ"
      },
      "execution_count": null,
      "outputs": []
    },
    {
      "cell_type": "code",
      "source": [
        "df3 = df3.na.fill(mean_age,'Age')"
      ],
      "metadata": {
        "id": "LWiKSzzYsZG_"
      },
      "execution_count": null,
      "outputs": []
    },
    {
      "cell_type": "code",
      "source": [
        "df3.show()"
      ],
      "metadata": {
        "colab": {
          "base_uri": "https://localhost:8080/"
        },
        "id": "VXCYs7XOt6xK",
        "outputId": "54ceb986-d2fb-4ece-92bc-a5672e6f94a4"
      },
      "execution_count": null,
      "outputs": [
        {
          "output_type": "stream",
          "name": "stdout",
          "text": [
            "+---+-------+------+-------+---------+\n",
            "|Age| Salary|Gender|Country|Purchased|\n",
            "+---+-------+------+-------+---------+\n",
            "| 18|20000.0|  Male|Germany|        N|\n",
            "| 19|22000.0|Female| France|        N|\n",
            "| 20|24000.0|Female|England|        N|\n",
            "| 21|31875.0|  Male|England|        N|\n",
            "| 22|50000.0|  Male| France|        Y|\n",
            "| 23|35000.0|Female|England|        N|\n",
            "| 24|31875.0|  Male|Germany|        N|\n",
            "| 25|32000.0|Female| France|        Y|\n",
            "| 22|35000.0|  Male|Germany|        N|\n",
            "| 27|37000.0|Female| France|        N|\n",
            "+---+-------+------+-------+---------+\n",
            "\n"
          ]
        }
      ]
    },
    {
      "cell_type": "code",
      "source": [
        "df3.write.option('header','true').format('csv').save('bank_propspects_transformed')"
      ],
      "metadata": {
        "id": "ATnFc4mjvEZs"
      },
      "execution_count": 59,
      "outputs": []
    },
    {
      "cell_type": "code",
      "source": [
        "!ls"
      ],
      "metadata": {
        "colab": {
          "base_uri": "https://localhost:8080/"
        },
        "id": "IZax42-HvSlT",
        "outputId": "6828a742-cf93-43a4-ee6d-d9483ad74030"
      },
      "execution_count": 60,
      "outputs": [
        {
          "output_type": "stream",
          "name": "stdout",
          "text": [
            "bank_propspects_transformed  spark-3.3.1-bin-hadoop3\n",
            "bank_prospects.csv\t     spark-3.3.1-bin-hadoop3.tgz\n",
            "bank_prospects.csv.1\t     spark-3.3.1-bin-hadoop3.tgz.1\n",
            "sample_data\t\t     temp\n"
          ]
        }
      ]
    },
    {
      "cell_type": "code",
      "source": [
        "!ls bank_propspects_transformed"
      ],
      "metadata": {
        "colab": {
          "base_uri": "https://localhost:8080/"
        },
        "id": "x4kZoitCvTmj",
        "outputId": "7cf21c8b-935c-4617-a0b5-62308959a18f"
      },
      "execution_count": 61,
      "outputs": [
        {
          "output_type": "stream",
          "name": "stdout",
          "text": [
            "part-00000-2dc34e88-0696-4d68-8956-a3f652e64ed2-c000.csv  _SUCCESS\n"
          ]
        }
      ]
    },
    {
      "cell_type": "code",
      "source": [
        "!cat bank_propspects_transformed/part-00000-2dc34e88-0696-4d68-8956-a3f652e64ed2-c000.csv"
      ],
      "metadata": {
        "colab": {
          "base_uri": "https://localhost:8080/"
        },
        "id": "J63QwV9mveNF",
        "outputId": "2fe5f8bd-3745-419b-fe9a-1765be437f6e"
      },
      "execution_count": 63,
      "outputs": [
        {
          "output_type": "stream",
          "name": "stdout",
          "text": [
            "Age,Salary,Gender,Country,Purchased\n",
            "18,20000.0,Male,Germany,N\n",
            "19,22000.0,Female,France,N\n",
            "20,24000.0,Female,England,N\n",
            "21,31875.0,Male,England,N\n",
            "22,50000.0,Male,France,Y\n",
            "23,35000.0,Female,England,N\n",
            "24,31875.0,Male,Germany,N\n",
            "25,32000.0,Female,France,Y\n",
            "22,35000.0,Male,Germany,N\n",
            "27,37000.0,Female,France,N\n"
          ]
        }
      ]
    }
  ]
}